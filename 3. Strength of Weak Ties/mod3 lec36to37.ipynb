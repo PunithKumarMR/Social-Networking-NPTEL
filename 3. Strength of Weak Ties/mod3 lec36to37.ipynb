{
 "cells": [
  {
   "cell_type": "markdown",
   "metadata": {},
   "source": [
    "## Lec36 Strong and weak relationships : Finding communities in Graph\n",
    "### Girvan Newman Algorithm\n",
    "\n",
    "* Based on edge betweenness\n",
    "* The edges which are connecting two communities tend to have high betweenness\n",
    "\n",
    "<a href = \"https://en.wikipedia.org/wiki/Girvan%E2%80%93Newman_algorithm\">GNA WIKI</a>\n",
    "\n",
    "* Vertex betweenness is an indicator of highly central nodes in networks. For any node i, vertex betweenness is defined as the number of shortest paths between pairs of nodes that run through it. It is relevant to models where the network modulates transfer of goods between known start and end points, under the assumption that such transfer seeks the shortest available route.\n",
    "* The Girvan–Newman algorithm extends this definition to the case of edges, defining the \"edge betweenness\" of an edge as the number of shortest paths between pairs of nodes that run along it. \n"
   ]
  },
  {
   "cell_type": "code",
   "execution_count": 2,
   "metadata": {
    "collapsed": false
   },
   "outputs": [],
   "source": [
    "import networkx as nx\n",
    "import matplotlib.pyplot as plt"
   ]
  },
  {
   "cell_type": "code",
   "execution_count": 32,
   "metadata": {
    "collapsed": true
   },
   "outputs": [],
   "source": [
    "def edge_to_remove(G):\n",
    "    dict1 = nx.edge_betweenness_centrality(G) #Key - edges as tuple ;Value - edge betweenness \n",
    "    list_of_tuples = dict1.items()#list has tuples, tuple has the above data\n",
    "    #print \"List of Tuples : \", list_of_tuples\n",
    "    list_of_tuples.sort(key = lambda x:x[1], reverse = True) #Descending order\n",
    "    return list_of_tuples[0][0] #(a, b) #edge with max edge betweenness\n",
    "\n",
    "def girvan(G):\n",
    "    # Returns connected components as subgrahs\n",
    "    c = list(nx.connected_component_subgraphs(G))\n",
    "    l = len(c)\n",
    "    print 'The number of connected components are ', l\n",
    "    while l == 1:\n",
    "        G.remove_edge(*edge_to_remove(G)) # ((a, b)) -> (a, b)\n",
    "        c = list(nx.connected_component_subgraphs(G))\n",
    "        l = len(c)\n",
    "        print 'The number of connected components are ', l\n",
    "        \n",
    "    return c"
   ]
  },
  {
   "cell_type": "code",
   "execution_count": 30,
   "metadata": {
    "collapsed": false
   },
   "outputs": [
    {
     "name": "stdout",
     "output_type": "stream",
     "text": [
      "The number of connected components are  1\n",
      "List of Tuples :  [((0, 4), 0.13333333333333333), ((6, 9), 0.022222222222222223), ((1, 4), 0.13333333333333333), ((5, 9), 0.13333333333333333), ((5, 6), 0.13333333333333333), ((1, 3), 0.022222222222222223), ((2, 3), 0.022222222222222223), ((0, 3), 0.022222222222222223), ((5, 8), 0.13333333333333333), ((7, 9), 0.022222222222222223), ((0, 1), 0.022222222222222223), ((8, 9), 0.022222222222222223), ((6, 7), 0.022222222222222223), ((6, 8), 0.022222222222222223), ((3, 4), 0.13333333333333333), ((1, 2), 0.022222222222222223), ((0, 2), 0.022222222222222223), ((4, 5), 0.5555555555555556), ((5, 7), 0.13333333333333333), ((7, 8), 0.022222222222222223), ((2, 4), 0.13333333333333333)]\n",
      "The number of connected components are  2\n",
      "[0, 1, 2, 3, 4]\n",
      "---------- 5\n",
      "[8, 9, 5, 6, 7]\n",
      "---------- 5\n"
     ]
    }
   ],
   "source": [
    "G = nx.barbell_graph(5, 0)\n",
    "c = girvan(G)\n",
    "\n",
    "for i in c: #i is a graph\n",
    "    print i.nodes()\n",
    "    print \"----------\", i.number_of_nodes()"
   ]
  },
  {
   "cell_type": "code",
   "execution_count": 33,
   "metadata": {
    "collapsed": false
   },
   "outputs": [
    {
     "name": "stdout",
     "output_type": "stream",
     "text": [
      "The number of connected components are  1\n",
      "The number of connected components are  1\n",
      "The number of connected components are  1\n",
      "The number of connected components are  1\n",
      "The number of connected components are  1\n",
      "The number of connected components are  1\n",
      "The number of connected components are  1\n",
      "The number of connected components are  1\n",
      "The number of connected components are  1\n",
      "The number of connected components are  1\n",
      "The number of connected components are  1\n",
      "The number of connected components are  2\n",
      "[0, 1, 3, 4, 5, 6, 7, 10, 11, 12, 13, 16, 17, 19, 21]\n",
      "---------- 15\n",
      "[32, 33, 2, 8, 9, 14, 15, 18, 20, 22, 23, 24, 25, 26, 27, 28, 29, 30, 31]\n",
      "---------- 19\n"
     ]
    }
   ],
   "source": [
    "G = nx.karate_club_graph()\n",
    "c = girvan(G)\n",
    "\n",
    "for i in c: #i is a graph\n",
    "    print i.nodes()\n",
    "    print \"----------\", i.number_of_nodes()"
   ]
  },
  {
   "cell_type": "code",
   "execution_count": 19,
   "metadata": {
    "collapsed": true
   },
   "outputs": [],
   "source": [
    "nx.connected_component_subgraphs?"
   ]
  },
  {
   "cell_type": "markdown",
   "metadata": {},
   "source": [
    "## Lec37 Strong and weak relationships : Visualing communities using Gephi \n",
    "\n",
    "* Settings -> Modularity -> Run\n",
    "* Default resolution : 1\n",
    "* Increase the resolution to get less communities and decrease the resolution to get less communities\n",
    "* Use partition to differentiate edges\n",
    "* Force atlas layout is better in this case (Increase repulsion strenth to get a better graph)"
   ]
  }
 ],
 "metadata": {
  "kernelspec": {
   "display_name": "Python 2",
   "language": "python",
   "name": "python2"
  },
  "language_info": {
   "codemirror_mode": {
    "name": "ipython",
    "version": 2
   },
   "file_extension": ".py",
   "mimetype": "text/x-python",
   "name": "python",
   "nbconvert_exporter": "python",
   "pygments_lexer": "ipython2",
   "version": "2.7.13"
  }
 },
 "nbformat": 4,
 "nbformat_minor": 2
}
