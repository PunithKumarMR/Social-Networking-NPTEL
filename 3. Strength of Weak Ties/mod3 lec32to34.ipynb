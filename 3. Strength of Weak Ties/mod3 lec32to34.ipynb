{
 "cells": [
  {
   "cell_type": "markdown",
   "metadata": {},
   "source": [
    "## Lec32 Strong and Weak relationships :  Embeddedness\n",
    "\n",
    "Very recent friend asking money -> We cant trust. so we wont give<br>\n",
    "Best friend asking money -> We will help<br>\n",
    "Reason: Duration, trust, ...EMBEDDEDESS<br>\n",
    "\n",
    "* Embeddedness = number of common friends\n",
    "* more common friends => more trust (even in case of recent friends)\n",
    "* Embeddedness is all about edges(Friendships) and not about nodes(friends)\n",
    "* High embeddedness is good or bad?? Answer : BOTH \n",
    "\n",
    "## Lec33 Strong and Weak relationships : Structural Holes\n",
    "* Stuctural holes exist when the low or zero embeddedness is good for someone!(Eg : Real estate business)\n",
    "\n",
    "<img src = \"lec33_1.png\">\n",
    "\n",
    "* Sir should contact real estate broker only via RAMYA and friends of sir should contact them only via Sir, Ramya. Thus Ramya monopolises and people in I sub group have to take a longer path. Such a condition is called a structural hole. \n",
    "\n",
    "<img src = \"lec33_2.png\">\n",
    "\n",
    "## Lec34 Strong and Weak relationships : Social Capital\n",
    "<img src = \"lec34_1.png\">\n",
    "<img src = \"lec34_2.png\">\n",
    "<img src = \"lec34_3.png\">\n",
    "<h3>Points to note : </h3>\n",
    "\n",
    "* Social Capital -> Network with major benefits. It should have both closure and brokerage\n",
    "* There should be strong closure with in each elements of brokerage\n",
    "* Closure : A friend's friend becomes friend\n",
    "* *Complete unity is boring*"
   ]
  }
 ],
 "metadata": {
  "kernelspec": {
   "display_name": "Python 2",
   "language": "python",
   "name": "python2"
  },
  "language_info": {
   "codemirror_mode": {
    "name": "ipython",
    "version": 2
   },
   "file_extension": ".py",
   "mimetype": "text/x-python",
   "name": "python",
   "nbconvert_exporter": "python",
   "pygments_lexer": "ipython2",
   "version": "2.7.13"
  }
 },
 "nbformat": 4,
 "nbformat_minor": 2
}
