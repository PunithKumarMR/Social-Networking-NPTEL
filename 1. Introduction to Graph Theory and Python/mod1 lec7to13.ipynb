{
 "cells": [
  {
   "cell_type": "markdown",
   "metadata": {},
   "source": [
    "## Lec7 - Social Networks - The Challenge\n",
    "non-trivial(major, important...)\n",
    "\n",
    "How many total graphs of 50nodes are possible?\n",
    "infinity(2^(50 C 2))\n",
    "## Lec8 - Google page rank - 450 billion\n",
    "## Lec9 - Searching a node in a network\n",
    "log n steps for searching in n nodes(10 steps for 1 billion nodes)\n",
    "## Lec10 - Link Prediction\n",
    "Facebook friend suggestion\n",
    "## Lec11 - Contagions\n",
    "happiness is contagous to two levels\n",
    "if ur friends's frnd is happy, u will be happy\n",
    "## Lec12 - Importance of Acquaintences\n",
    "->a person one knows slightly, but who is not a close friend/familiarity\n",
    "\n",
    "important in getting prospectus spouse, dream jobs \n",
    "## Lec13 - Marketing in social networks\n",
    "product marketing"
   ]
  }
 ],
 "metadata": {
  "kernelspec": {
   "display_name": "Python 2",
   "language": "python",
   "name": "python2"
  },
  "language_info": {
   "codemirror_mode": {
    "name": "ipython",
    "version": 2
   },
   "file_extension": ".py",
   "mimetype": "text/x-python",
   "name": "python",
   "nbconvert_exporter": "python",
   "pygments_lexer": "ipython2",
   "version": "2.7.13"
  }
 },
 "nbformat": 4,
 "nbformat_minor": 2
}
